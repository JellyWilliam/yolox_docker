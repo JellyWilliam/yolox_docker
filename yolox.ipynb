{
 "cells": [
  {
   "cell_type": "markdown",
   "source": [
    "Научиться читать видео файл через библиотеку pyav и сохранит 100, 200 и 234 кадр как картинку имена файлов frame_100.jpg, frame_200.jpg, frame_234.jpg"
   ],
   "metadata": {
    "collapsed": false
   }
  },
  {
   "cell_type": "code",
   "execution_count": 12,
   "outputs": [],
   "source": [
    "import av\n",
    "\n",
    "container = av.open(\"develop_streem.ts\")\n",
    "\n",
    "# 234 кадра нет, поэтому взял 224\n",
    "for frame in container.decode(video=0):\n",
    "    if frame.index in [100, 200, 224]:\n",
    "        frame.to_image().save(f'frame_{frame.index}.jpg')"
   ],
   "metadata": {
    "collapsed": false
   }
  },
  {
   "cell_type": "code",
   "execution_count": null,
   "outputs": [],
   "source": [],
   "metadata": {
    "collapsed": false
   }
  }
 ],
 "metadata": {
  "kernelspec": {
   "display_name": "Python 3",
   "language": "python",
   "name": "python3"
  },
  "language_info": {
   "codemirror_mode": {
    "name": "ipython",
    "version": 2
   },
   "file_extension": ".py",
   "mimetype": "text/x-python",
   "name": "python",
   "nbconvert_exporter": "python",
   "pygments_lexer": "ipython2",
   "version": "2.7.6"
  }
 },
 "nbformat": 4,
 "nbformat_minor": 0
}
