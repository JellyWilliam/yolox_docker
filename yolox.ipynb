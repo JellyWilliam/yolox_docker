{
 "cells": [
  {
   "cell_type": "markdown",
   "source": [
    "Научиться читать видео файл через библиотеку pyav и сохранит 100, 200 и 234 кадр как картинку имена файлов frame_100.jpg, frame_200.jpg, frame_234.jpg"
   ],
   "metadata": {
    "collapsed": false
   }
  },
  {
   "cell_type": "code",
   "execution_count": 12,
   "outputs": [],
   "source": [
    "import av\n",
    "\n",
    "container = av.open(\"develop_streem.ts\")\n",
    "\n",
    "# 234 кадра нет, поэтому взял 224\n",
    "for frame in container.decode(video=0):\n",
    "    if frame.index in [100, 200, 224]:\n",
    "        frame.to_image().save(f'frame_{frame.index}.jpg')"
   ],
   "metadata": {
    "collapsed": false
   }
  },
  {
   "cell_type": "code",
   "execution_count": 34,
   "outputs": [],
   "source": [
    "import importlib\n",
    "import os\n",
    "\n",
    "import cv2\n",
    "import torch\n",
    "\n",
    "from yolox.data.data_augment import ValTransform\n",
    "from yolox.data.datasets import COCO_CLASSES\n",
    "from yolox.utils import postprocess, vis\n",
    "\n",
    "IMAGE_EXT = [\".jpg\", \".jpeg\", \".webp\", \".bmp\", \".png\"]\n",
    "\n",
    "\n",
    "def get_exp_by_name(exp_name):\n",
    "    exp = exp_name.replace(\"-\", \"_\")\n",
    "    module_name = \".\".join([\"yolox\", \"exp\", \"default\", exp])\n",
    "    exp_object = importlib.import_module(module_name).Exp()\n",
    "    return exp_object\n",
    "\n",
    "\n",
    "class Predictor(object):\n",
    "    def __init__(self, model, exp, cls_names=COCO_CLASSES, device=\"cpu\"):\n",
    "        self.model = model\n",
    "        self.cls_names = cls_names\n",
    "        self.num_classes = exp.num_classes\n",
    "        self.confthre = exp.test_conf\n",
    "        self.nmsthre = exp.nmsthre\n",
    "        self.test_size = exp.test_size\n",
    "        self.device = device\n",
    "        self.preproc = ValTransform(legacy=False)\n",
    "\n",
    "    def inference(self, img, name_frame):\n",
    "        img_info = {\"id\": 0}\n",
    "        if isinstance(img, str):\n",
    "            img_info[\"file_name\"] = os.path.basename(name_frame)\n",
    "        else:\n",
    "            img_info[\"file_name\"] = None\n",
    "\n",
    "        height, width = img.shape[:2]\n",
    "        img_info[\"height\"] = height\n",
    "        img_info[\"width\"] = width\n",
    "        img_info[\"raw_img\"] = img\n",
    "\n",
    "        ratio = min(self.test_size[0] / img.shape[0], self.test_size[1] / img.shape[1])\n",
    "        img_info[\"ratio\"] = ratio\n",
    "\n",
    "        img, _ = self.preproc(img, None, self.test_size)\n",
    "        img = torch.from_numpy(img).unsqueeze(0)\n",
    "        img = img.float()\n",
    "\n",
    "        with torch.no_grad():\n",
    "            outputs = self.model(img)\n",
    "            outputs = postprocess(outputs, self.num_classes, self.confthre, self.nmsthre, class_agnostic=True)\n",
    "        return outputs, img_info\n",
    "\n",
    "    def visual(self, output, img_info, cls_conf=0.35):\n",
    "        ratio = img_info[\"ratio\"]\n",
    "        img = img_info[\"raw_img\"]\n",
    "        if output is None:\n",
    "            return img\n",
    "\n",
    "        output = output.cpu()\n",
    "\n",
    "        bboxes = output[:, 0:4]\n",
    "        bboxes /= ratio\n",
    "\n",
    "        cls = output[:, 6]\n",
    "        scores = output[:, 4] * output[:, 5]\n",
    "\n",
    "        vis_res = vis(img, bboxes, scores, cls, cls_conf, self.cls_names)\n",
    "        return vis_res\n",
    "\n",
    "\n",
    "def image_demo(predictor, vis_folder, image, path, save_frame):\n",
    "    outputs, img_info = predictor.inference(image, path)\n",
    "    result_image = predictor.visual(outputs[0], img_info, predictor.confthre)\n",
    "    if save_frame:\n",
    "        os.makedirs(vis_folder, exist_ok=True)\n",
    "        save_file_name = os.path.join(vis_folder, os.path.basename(path))\n",
    "        cv2.imwrite(save_file_name, result_image)\n",
    "        return None\n",
    "    else:\n",
    "        return result_image\n",
    "\n",
    "\n",
    "def main(exp, image, name_frame, save_frame=True, conf=.25, nms=.45, tsize=640, ckpt=\"YOLOX/models/yolox_nano.pth\"):\n",
    "    vis_folder = os.path.join(\"MY_YOLOX_OUT\")\n",
    "    if save_frame:\n",
    "        os.makedirs(vis_folder, exist_ok=True)\n",
    "\n",
    "    exp.test_conf = conf\n",
    "    exp.nmsthre = nms\n",
    "    exp.test_size = (tsize, tsize)\n",
    "\n",
    "    model = exp.get_model()\n",
    "    model.eval()\n",
    "\n",
    "    ckpt_file = ckpt\n",
    "    ckpt = torch.load(ckpt_file, map_location=\"cpu\")\n",
    "    model.load_state_dict(ckpt[\"model\"])\n",
    "\n",
    "    predictor = Predictor(\n",
    "        model, exp, COCO_CLASSES\n",
    "    )\n",
    "\n",
    "    image_yolox = image_demo(predictor, vis_folder, image, name_frame, save_frame)\n",
    "    return image_yolox"
   ],
   "metadata": {
    "collapsed": false
   }
  },
  {
   "cell_type": "code",
   "execution_count": 13,
   "outputs": [],
   "source": [
    "import numpy as np\n",
    "\n",
    "exp = get_exp_by_name(\"yolox_nano\")\n",
    "\n",
    "container = av.open(\"develop_streem.ts\")\n",
    "\n",
    "# 234 кадра нет, поэтому взял 224\n",
    "for frame in container.decode(video=0):\n",
    "    if frame.index in [100, 200, 224]:\n",
    "        # frame.to_image().save(f'frame_{frame.index}.jpg')\n",
    "        open_cv_image = np.array(frame.to_image())\n",
    "        open_cv_image = open_cv_image[:, :, ::-1].copy()\n",
    "        main(exp=exp, image=open_cv_image, name_frame=f'frame_{frame.index}.jpg')\n"
   ],
   "metadata": {
    "collapsed": false
   }
  },
  {
   "cell_type": "code",
   "execution_count": null,
   "outputs": [],
   "source": [
    "frameSize = (1920, 1080)\n",
    "\n",
    "container = av.open(\"develop_streem.ts\")\n",
    "out = cv2.VideoWriter('develop_streem_YOLOX.ts', cv2.VideoWriter_fourcc(*\"mp4v\"), 25, frameSize)\n",
    "for frame in container.decode(video=0):\n",
    "    open_cv_image = np.array(frame.to_image())\n",
    "    open_cv_image = open_cv_image[:, :, ::-1].copy()\n",
    "    image = main(exp=exp, image=open_cv_image, name_frame=f'frame_{frame.index}.jpg', save_frame=False)\n",
    "    out.write(image)\n",
    "\n",
    "out.release()\n",
    "print(\"Запись видео завершена\")"
   ],
   "metadata": {
    "collapsed": false,
    "pycharm": {
     "is_executing": true
    }
   }
  },
  {
   "cell_type": "code",
   "execution_count": null,
   "outputs": [],
   "source": [],
   "metadata": {
    "collapsed": false
   }
  }
 ],
 "metadata": {
  "kernelspec": {
   "display_name": "Python 3",
   "language": "python",
   "name": "python3"
  },
  "language_info": {
   "codemirror_mode": {
    "name": "ipython",
    "version": 2
   },
   "file_extension": ".py",
   "mimetype": "text/x-python",
   "name": "python",
   "nbconvert_exporter": "python",
   "pygments_lexer": "ipython2",
   "version": "2.7.6"
  }
 },
 "nbformat": 4,
 "nbformat_minor": 0
}
